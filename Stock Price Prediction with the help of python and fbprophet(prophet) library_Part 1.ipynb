{
 "cells": [
  {
   "cell_type": "code",
   "execution_count": 1,
   "metadata": {},
   "outputs": [],
   "source": [
    "# For division\n",
    "from __future__ import division\n",
    "#Let's go ahead and start with some imports\n",
    "import pandas as pd\n",
    "from pandas import Series,DataFrame\n",
    "import numpy as np\n",
    "\n",
    "# For Visualization\n",
    "import matplotlib.pyplot as plt\n",
    "\n",
    "%matplotlib inline\n",
    "\n",
    "# For reading stock data from yahoo\n",
    "import pandas_datareader as web\n",
    "\n",
    "# For time stamps\n",
    "from datetime import datetime"
   ]
  },
  {
   "cell_type": "code",
   "execution_count": 2,
   "metadata": {},
   "outputs": [],
   "source": [
    "# The tech stocks we'll use for this analysis\n",
    "ticker = ['MSFT']\n",
    "\n",
    "# To Set up End and Start times for data grab\n",
    "end = datetime.now()\n",
    "start = datetime(end.year - 40,end.month,end.day)\n",
    "\n",
    "\n",
    "# Creating loop for grabing yahoo finance data and setting as a dataframe\n",
    "\n",
    "for stock in ticker:   \n",
    "    \n",
    "    #To set DataFrame as the Stock Ticker\n",
    "    \n",
    "    globals()[stock] = web.DataReader(stock,'yahoo',start,end)['Adj Close']"
   ]
  },
  {
   "cell_type": "code",
   "execution_count": 3,
   "metadata": {},
   "outputs": [
    {
     "data": {
      "text/plain": [
       "Date\n",
       "1986-03-13    0.062761\n",
       "1986-03-14    0.065003\n",
       "1986-03-17    0.066124\n",
       "1986-03-18    0.064443\n",
       "1986-03-19    0.063322\n",
       "Name: Adj Close, dtype: float64"
      ]
     },
     "execution_count": 3,
     "metadata": {},
     "output_type": "execute_result"
    }
   ],
   "source": [
    "MSFT.head()"
   ]
  },
  {
   "cell_type": "code",
   "execution_count": 4,
   "metadata": {},
   "outputs": [
    {
     "data": {
      "text/plain": [
       "Date\n",
       "2019-08-19    138.410004\n",
       "2019-08-20    137.259995\n",
       "2019-08-21    138.789993\n",
       "2019-08-22    137.779999\n",
       "2019-08-23    133.389999\n",
       "Name: Adj Close, dtype: float64"
      ]
     },
     "execution_count": 4,
     "metadata": {},
     "output_type": "execute_result"
    }
   ],
   "source": [
    "MSFT.tail()"
   ]
  },
  {
   "cell_type": "code",
   "execution_count": 5,
   "metadata": {},
   "outputs": [
    {
     "data": {
      "text/plain": [
       "(8432,)"
      ]
     },
     "execution_count": 5,
     "metadata": {},
     "output_type": "execute_result"
    }
   ],
   "source": [
    "MSFT.shape"
   ]
  },
  {
   "cell_type": "code",
   "execution_count": 6,
   "metadata": {},
   "outputs": [
    {
     "data": {
      "text/plain": [
       "<matplotlib.axes._subplots.AxesSubplot at 0x2605b8f8550>"
      ]
     },
     "execution_count": 6,
     "metadata": {},
     "output_type": "execute_result"
    },
    {
     "data": {
      "image/png": "[encoded data removed]",
      "text/plain": [
       "<Figure size 864x288 with 1 Axes>"
      ]
     },
     "metadata": {
      "needs_background": "light"
     },
     "output_type": "display_data"
    }
   ],
   "source": [
    "MSFT.plot(figsize=(12,4),legend=True, linestyle='--', marker='o')"
   ]
  },
  {
   "cell_type": "code",
   "execution_count": 7,
   "metadata": {},
   "outputs": [
    {
     "data": {
      "text/plain": [
       "count    8432.000000\n",
       "mean       22.155786\n",
       "std        25.366915\n",
       "min         0.058279\n",
       "25%         2.120091\n",
       "50%        18.401687\n",
       "75%        25.029620\n",
       "max       140.870895\n",
       "Name: Adj Close, dtype: float64"
      ]
     },
     "execution_count": 7,
     "metadata": {},
     "output_type": "execute_result"
    }
   ],
   "source": [
    "MSFT.describe()"
   ]
  },
  {
   "cell_type": "code",
   "execution_count": 8,
   "metadata": {},
   "outputs": [
    {
     "data": {
      "text/plain": [
       "Date\n",
       "1986-03-13    0.062761\n",
       "1986-03-14    0.065003\n",
       "1986-03-17    0.066124\n",
       "1986-03-18    0.064443\n",
       "1986-03-19    0.063322\n",
       "Name: Adj Close, dtype: float64"
      ]
     },
     "execution_count": 8,
     "metadata": {},
     "output_type": "execute_result"
    }
   ],
   "source": [
    "df = MSFT\n",
    "df.head()"
   ]
  },
  {
   "cell_type": "code",
   "execution_count": 9,
   "metadata": {},
   "outputs": [
    {
     "data": {
      "text/plain": [
       "count    8432.000000\n",
       "mean       22.155786\n",
       "std        25.366915\n",
       "min         0.058279\n",
       "25%         2.120091\n",
       "50%        18.401687\n",
       "75%        25.029620\n",
       "max       140.870895\n",
       "Name: Adj Close, dtype: float64"
      ]
     },
     "execution_count": 9,
     "metadata": {},
     "output_type": "execute_result"
    }
   ],
   "source": [
    "df.describe()"
   ]
  },
  {
   "cell_type": "code",
   "execution_count": 10,
   "metadata": {},
   "outputs": [],
   "source": [
    "df = df.reset_index()"
   ]
  },
  {
   "cell_type": "code",
   "execution_count": 11,
   "metadata": {},
   "outputs": [
    {
     "data": {
      "text/html": [
       "<div>\n",
       "<style scoped>\n",
       "    .dataframe tbody tr th:only-of-type {\n",
       "        vertical-align: middle;\n",
       "    }\n",
       "\n",
       "    .dataframe tbody tr th {\n",
       "        vertical-align: top;\n",
       "    }\n",
       "\n",
       "    .dataframe thead th {\n",
       "        text-align: right;\n",
       "    }\n",
       "</style>\n",
       "<table border=\"1\" class=\"dataframe\">\n",
       "  <thead>\n",
       "    <tr style=\"text-align: right;\">\n",
       "      <th></th>\n",
       "      <th>Date</th>\n",
       "      <th>Adj Close</th>\n",
       "    </tr>\n",
       "  </thead>\n",
       "  <tbody>\n",
       "    <tr>\n",
       "      <th>0</th>\n",
       "      <td>1986-03-13</td>\n",
       "      <td>0.062761</td>\n",
       "    </tr>\n",
       "    <tr>\n",
       "      <th>1</th>\n",
       "      <td>1986-03-14</td>\n",
       "      <td>0.065003</td>\n",
       "    </tr>\n",
       "    <tr>\n",
       "      <th>2</th>\n",
       "      <td>1986-03-17</td>\n",
       "      <td>0.066124</td>\n",
       "    </tr>\n",
       "    <tr>\n",
       "      <th>3</th>\n",
       "      <td>1986-03-18</td>\n",
       "      <td>0.064443</td>\n",
       "    </tr>\n",
       "    <tr>\n",
       "      <th>4</th>\n",
       "      <td>1986-03-19</td>\n",
       "      <td>0.063322</td>\n",
       "    </tr>\n",
       "  </tbody>\n",
       "</table>\n",
       "</div>"
      ],
      "text/plain": [
       "        Date  Adj Close\n",
       "0 1986-03-13   0.062761\n",
       "1 1986-03-14   0.065003\n",
       "2 1986-03-17   0.066124\n",
       "3 1986-03-18   0.064443\n",
       "4 1986-03-19   0.063322"
      ]
     },
     "execution_count": 11,
     "metadata": {},
     "output_type": "execute_result"
    }
   ],
   "source": [
    "df.head()"
   ]
  },
  {
   "cell_type": "code",
   "execution_count": 12,
   "metadata": {},
   "outputs": [],
   "source": [
    "df[['ds','y']] = df[['Date' ,'Adj Close']]"
   ]
  },
  {
   "cell_type": "code",
   "execution_count": 13,
   "metadata": {},
   "outputs": [
    {
     "data": {
      "text/html": [
       "<div>\n",
       "<style scoped>\n",
       "    .dataframe tbody tr th:only-of-type {\n",
       "        vertical-align: middle;\n",
       "    }\n",
       "\n",
       "    .dataframe tbody tr th {\n",
       "        vertical-align: top;\n",
       "    }\n",
       "\n",
       "    .dataframe thead th {\n",
       "        text-align: right;\n",
       "    }\n",
       "</style>\n",
       "<table border=\"1\" class=\"dataframe\">\n",
       "  <thead>\n",
       "    <tr style=\"text-align: right;\">\n",
       "      <th></th>\n",
       "      <th>ds</th>\n",
       "      <th>y</th>\n",
       "    </tr>\n",
       "  </thead>\n",
       "  <tbody>\n",
       "    <tr>\n",
       "      <th>0</th>\n",
       "      <td>1986-03-13</td>\n",
       "      <td>0.062761</td>\n",
       "    </tr>\n",
       "    <tr>\n",
       "      <th>1</th>\n",
       "      <td>1986-03-14</td>\n",
       "      <td>0.065003</td>\n",
       "    </tr>\n",
       "    <tr>\n",
       "      <th>2</th>\n",
       "      <td>1986-03-17</td>\n",
       "      <td>0.066124</td>\n",
       "    </tr>\n",
       "    <tr>\n",
       "      <th>3</th>\n",
       "      <td>1986-03-18</td>\n",
       "      <td>0.064443</td>\n",
       "    </tr>\n",
       "    <tr>\n",
       "      <th>4</th>\n",
       "      <td>1986-03-19</td>\n",
       "      <td>0.063322</td>\n",
       "    </tr>\n",
       "  </tbody>\n",
       "</table>\n",
       "</div>"
      ],
      "text/plain": [
       "          ds         y\n",
       "0 1986-03-13  0.062761\n",
       "1 1986-03-14  0.065003\n",
       "2 1986-03-17  0.066124\n",
       "3 1986-03-18  0.064443\n",
       "4 1986-03-19  0.063322"
      ]
     },
     "execution_count": 13,
     "metadata": {},
     "output_type": "execute_result"
    }
   ],
   "source": [
    "\n",
    "df = df[['ds','y']]\n",
    "df.head()"
   ]
  },
  {
   "cell_type": "code",
   "execution_count": 14,
   "metadata": {},
   "outputs": [],
   "source": [
    "# Importing the prophet library:\n",
    "\n",
    "import fbprophet"
   ]
  },
  {
   "cell_type": "code",
   "execution_count": 15,
   "metadata": {},
   "outputs": [],
   "source": [
    "# After importing the prophet library we need to create an instance of a Prophet object\n",
    "#Instantiating: Instantiation − The creation of an instance of a class. Method − A special kind of function that is defined in a class definition. Object − A unique instance of a data structure that's defined by its class. An object comprises both data members (class variables and instance variables) and methods.\n",
    "#https://www.tutorialspoint.com/python/python_classes_objects.htm\n",
    "\n",
    "m = fbprophet.Prophet()"
   ]
  },
  {
   "cell_type": "code",
   "execution_count": 16,
   "metadata": {},
   "outputs": [
    {
     "name": "stderr",
     "output_type": "stream",
     "text": [
      "INFO:fbprophet:Disabling daily seasonality. Run prophet with daily_seasonality=True to override this.\n",
      "C:\\Users\\Rakshit\\Anaconda3\\lib\\site-packages\\pystan\\misc.py:399: FutureWarning:\n",
      "\n",
      "Conversion of the second argument of issubdtype from `float` to `np.floating` is deprecated. In future, it will be treated as `np.float64 == np.dtype(float).type`.\n",
      "\n"
     ]
    },
    {
     "data": {
      "text/plain": [
       "<fbprophet.forecaster.Prophet at 0x26063be17f0>"
      ]
     },
     "execution_count": 16,
     "metadata": {},
     "output_type": "execute_result"
    }
   ],
   "source": [
    "# Now we have to use the fit method on the prophet object and pass in our dataframe because we need to fit our model to our historical data.\n",
    "\n",
    "m.fit(df)"
   ]
  },
  {
   "cell_type": "code",
   "execution_count": 17,
   "metadata": {},
   "outputs": [
    {
     "data": {
      "text/html": [
       "<div>\n",
       "<style scoped>\n",
       "    .dataframe tbody tr th:only-of-type {\n",
       "        vertical-align: middle;\n",
       "    }\n",
       "\n",
       "    .dataframe tbody tr th {\n",
       "        vertical-align: top;\n",
       "    }\n",
       "\n",
       "    .dataframe thead th {\n",
       "        text-align: right;\n",
       "    }\n",
       "</style>\n",
       "<table border=\"1\" class=\"dataframe\">\n",
       "  <thead>\n",
       "    <tr style=\"text-align: right;\">\n",
       "      <th></th>\n",
       "      <th>ds</th>\n",
       "    </tr>\n",
       "  </thead>\n",
       "  <tbody>\n",
       "    <tr>\n",
       "      <th>8792</th>\n",
       "      <td>2020-08-18</td>\n",
       "    </tr>\n",
       "    <tr>\n",
       "      <th>8793</th>\n",
       "      <td>2020-08-19</td>\n",
       "    </tr>\n",
       "    <tr>\n",
       "      <th>8794</th>\n",
       "      <td>2020-08-20</td>\n",
       "    </tr>\n",
       "    <tr>\n",
       "      <th>8795</th>\n",
       "      <td>2020-08-21</td>\n",
       "    </tr>\n",
       "    <tr>\n",
       "      <th>8796</th>\n",
       "      <td>2020-08-22</td>\n",
       "    </tr>\n",
       "  </tbody>\n",
       "</table>\n",
       "</div>"
      ],
      "text/plain": [
       "             ds\n",
       "8792 2020-08-18\n",
       "8793 2020-08-19\n",
       "8794 2020-08-20\n",
       "8795 2020-08-21\n",
       "8796 2020-08-22"
      ]
     },
     "execution_count": 17,
     "metadata": {},
     "output_type": "execute_result"
    }
   ],
   "source": [
    "# Now it is time to create future dates, using Prophet and its builtin helper function \"make_future_dataframe\"\n",
    "\n",
    "future = m.make_future_dataframe(periods=365)\n",
    "future.tail()"
   ]
  },
  {
   "cell_type": "code",
   "execution_count": 18,
   "metadata": {},
   "outputs": [
    {
     "data": {
      "text/html": [
       "<div>\n",
       "<style scoped>\n",
       "    .dataframe tbody tr th:only-of-type {\n",
       "        vertical-align: middle;\n",
       "    }\n",
       "\n",
       "    .dataframe tbody tr th {\n",
       "        vertical-align: top;\n",
       "    }\n",
       "\n",
       "    .dataframe thead th {\n",
       "        text-align: right;\n",
       "    }\n",
       "</style>\n",
       "<table border=\"1\" class=\"dataframe\">\n",
       "  <thead>\n",
       "    <tr style=\"text-align: right;\">\n",
       "      <th></th>\n",
       "      <th>ds</th>\n",
       "      <th>trend</th>\n",
       "      <th>yhat_lower</th>\n",
       "      <th>yhat_upper</th>\n",
       "      <th>trend_lower</th>\n",
       "      <th>trend_upper</th>\n",
       "      <th>additive_terms</th>\n",
       "      <th>additive_terms_lower</th>\n",
       "      <th>additive_terms_upper</th>\n",
       "      <th>weekly</th>\n",
       "      <th>weekly_lower</th>\n",
       "      <th>weekly_upper</th>\n",
       "      <th>yearly</th>\n",
       "      <th>yearly_lower</th>\n",
       "      <th>yearly_upper</th>\n",
       "      <th>multiplicative_terms</th>\n",
       "      <th>multiplicative_terms_lower</th>\n",
       "      <th>multiplicative_terms_upper</th>\n",
       "      <th>yhat</th>\n",
       "    </tr>\n",
       "  </thead>\n",
       "  <tbody>\n",
       "    <tr>\n",
       "      <th>8792</th>\n",
       "      <td>2020-08-18</td>\n",
       "      <td>123.720858</td>\n",
       "      <td>116.843922</td>\n",
       "      <td>130.454627</td>\n",
       "      <td>122.330587</td>\n",
       "      <td>125.121922</td>\n",
       "      <td>0.157763</td>\n",
       "      <td>0.157763</td>\n",
       "      <td>0.157763</td>\n",
       "      <td>-0.059047</td>\n",
       "      <td>-0.059047</td>\n",
       "      <td>-0.059047</td>\n",
       "      <td>0.216810</td>\n",
       "      <td>0.216810</td>\n",
       "      <td>0.216810</td>\n",
       "      <td>0.0</td>\n",
       "      <td>0.0</td>\n",
       "      <td>0.0</td>\n",
       "      <td>123.878621</td>\n",
       "    </tr>\n",
       "    <tr>\n",
       "      <th>8793</th>\n",
       "      <td>2020-08-19</td>\n",
       "      <td>123.759975</td>\n",
       "      <td>117.443567</td>\n",
       "      <td>130.970221</td>\n",
       "      <td>122.365299</td>\n",
       "      <td>125.174811</td>\n",
       "      <td>0.131858</td>\n",
       "      <td>0.131858</td>\n",
       "      <td>0.131858</td>\n",
       "      <td>-0.050231</td>\n",
       "      <td>-0.050231</td>\n",
       "      <td>-0.050231</td>\n",
       "      <td>0.182089</td>\n",
       "      <td>0.182089</td>\n",
       "      <td>0.182089</td>\n",
       "      <td>0.0</td>\n",
       "      <td>0.0</td>\n",
       "      <td>0.0</td>\n",
       "      <td>123.891833</td>\n",
       "    </tr>\n",
       "    <tr>\n",
       "      <th>8794</th>\n",
       "      <td>2020-08-20</td>\n",
       "      <td>123.799091</td>\n",
       "      <td>116.496202</td>\n",
       "      <td>130.184195</td>\n",
       "      <td>122.400012</td>\n",
       "      <td>125.227699</td>\n",
       "      <td>0.111881</td>\n",
       "      <td>0.111881</td>\n",
       "      <td>0.111881</td>\n",
       "      <td>-0.033392</td>\n",
       "      <td>-0.033392</td>\n",
       "      <td>-0.033392</td>\n",
       "      <td>0.145273</td>\n",
       "      <td>0.145273</td>\n",
       "      <td>0.145273</td>\n",
       "      <td>0.0</td>\n",
       "      <td>0.0</td>\n",
       "      <td>0.0</td>\n",
       "      <td>123.910972</td>\n",
       "    </tr>\n",
       "    <tr>\n",
       "      <th>8795</th>\n",
       "      <td>2020-08-21</td>\n",
       "      <td>123.838207</td>\n",
       "      <td>117.519060</td>\n",
       "      <td>130.801244</td>\n",
       "      <td>122.434724</td>\n",
       "      <td>125.280588</td>\n",
       "      <td>0.094210</td>\n",
       "      <td>0.094210</td>\n",
       "      <td>0.094210</td>\n",
       "      <td>-0.012341</td>\n",
       "      <td>-0.012341</td>\n",
       "      <td>-0.012341</td>\n",
       "      <td>0.106551</td>\n",
       "      <td>0.106551</td>\n",
       "      <td>0.106551</td>\n",
       "      <td>0.0</td>\n",
       "      <td>0.0</td>\n",
       "      <td>0.0</td>\n",
       "      <td>123.932417</td>\n",
       "    </tr>\n",
       "    <tr>\n",
       "      <th>8796</th>\n",
       "      <td>2020-08-22</td>\n",
       "      <td>123.877324</td>\n",
       "      <td>117.570890</td>\n",
       "      <td>130.888962</td>\n",
       "      <td>122.469437</td>\n",
       "      <td>125.331811</td>\n",
       "      <td>0.156810</td>\n",
       "      <td>0.156810</td>\n",
       "      <td>0.156810</td>\n",
       "      <td>0.090631</td>\n",
       "      <td>0.090631</td>\n",
       "      <td>0.090631</td>\n",
       "      <td>0.066180</td>\n",
       "      <td>0.066180</td>\n",
       "      <td>0.066180</td>\n",
       "      <td>0.0</td>\n",
       "      <td>0.0</td>\n",
       "      <td>0.0</td>\n",
       "      <td>124.034134</td>\n",
       "    </tr>\n",
       "  </tbody>\n",
       "</table>\n",
       "</div>"
      ],
      "text/plain": [
       "             ds       trend  yhat_lower  yhat_upper  trend_lower  trend_upper  \\\n",
       "8792 2020-08-18  123.720858  116.843922  130.454627   122.330587   125.121922   \n",
       "8793 2020-08-19  123.759975  117.443567  130.970221   122.365299   125.174811   \n",
       "8794 2020-08-20  123.799091  116.496202  130.184195   122.400012   125.227699   \n",
       "8795 2020-08-21  123.838207  117.519060  130.801244   122.434724   125.280588   \n",
       "8796 2020-08-22  123.877324  117.570890  130.888962   122.469437   125.331811   \n",
       "\n",
       "      additive_terms  additive_terms_lower  additive_terms_upper    weekly  \\\n",
       "8792        0.157763              0.157763              0.157763 -0.059047   \n",
       "8793        0.131858              0.131858              0.131858 -0.050231   \n",
       "8794        0.111881              0.111881              0.111881 -0.033392   \n",
       "8795        0.094210              0.094210              0.094210 -0.012341   \n",
       "8796        0.156810              0.156810              0.156810  0.090631   \n",
       "\n",
       "      weekly_lower  weekly_upper    yearly  yearly_lower  yearly_upper  \\\n",
       "8792     -0.059047     -0.059047  0.216810      0.216810      0.216810   \n",
       "8793     -0.050231     -0.050231  0.182089      0.182089      0.182089   \n",
       "8794     -0.033392     -0.033392  0.145273      0.145273      0.145273   \n",
       "8795     -0.012341     -0.012341  0.106551      0.106551      0.106551   \n",
       "8796      0.090631      0.090631  0.066180      0.066180      0.066180   \n",
       "\n",
       "      multiplicative_terms  multiplicative_terms_lower  \\\n",
       "8792                   0.0                         0.0   \n",
       "8793                   0.0                         0.0   \n",
       "8794                   0.0                         0.0   \n",
       "8795                   0.0                         0.0   \n",
       "8796                   0.0                         0.0   \n",
       "\n",
       "      multiplicative_terms_upper        yhat  \n",
       "8792                         0.0  123.878621  \n",
       "8793                         0.0  123.891833  \n",
       "8794                         0.0  123.910972  \n",
       "8795                         0.0  123.932417  \n",
       "8796                         0.0  124.034134  "
      ]
     },
     "execution_count": 18,
     "metadata": {},
     "output_type": "execute_result"
    }
   ],
   "source": [
    "# Now it is time to predict future stock prices using the predict method\n",
    "\n",
    "forecast = m.predict(future)\n",
    "\n",
    "forecast.tail()\n"
   ]
  },
  {
   "cell_type": "code",
   "execution_count": 19,
   "metadata": {},
   "outputs": [
    {
     "data": {
      "image/png": "[encoded data removed]",
      "text/plain": [
       "<Figure size 720x432 with 1 Axes>"
      ]
     },
     "metadata": {},
     "output_type": "display_data"
    }
   ],
   "source": [
    "# Visualisation:\n",
    "\n",
    "m.plot(forecast);"
   ]
  },
  {
   "cell_type": "code",
   "execution_count": 20,
   "metadata": {},
   "outputs": [
    {
     "data": {
      "image/png": "[encoded data removed]",
      "text/plain": [
       "<Figure size 648x648 with 3 Axes>"
      ]
     },
     "metadata": {},
     "output_type": "display_data"
    }
   ],
   "source": [
    "# If you want to visualize the individual forecast components, you can use Prophet’s built-in plot_components method:\n",
    "\n",
    "m.plot_components(forecast);"
   ]
  },
  {
   "cell_type": "code",
   "execution_count": 21,
   "metadata": {},
   "outputs": [
    {
     "data": {
      "text/html": [
       "<div>\n",
       "<style scoped>\n",
       "    .dataframe tbody tr th:only-of-type {\n",
       "        vertical-align: middle;\n",
       "    }\n",
       "\n",
       "    .dataframe tbody tr th {\n",
       "        vertical-align: top;\n",
       "    }\n",
       "\n",
       "    .dataframe thead th {\n",
       "        text-align: right;\n",
       "    }\n",
       "</style>\n",
       "<table border=\"1\" class=\"dataframe\">\n",
       "  <thead>\n",
       "    <tr style=\"text-align: right;\">\n",
       "      <th></th>\n",
       "      <th>y</th>\n",
       "    </tr>\n",
       "  </thead>\n",
       "  <tbody>\n",
       "    <tr>\n",
       "      <th>count</th>\n",
       "      <td>8432.000000</td>\n",
       "    </tr>\n",
       "    <tr>\n",
       "      <th>mean</th>\n",
       "      <td>22.155786</td>\n",
       "    </tr>\n",
       "    <tr>\n",
       "      <th>std</th>\n",
       "      <td>25.366915</td>\n",
       "    </tr>\n",
       "    <tr>\n",
       "      <th>min</th>\n",
       "      <td>0.058279</td>\n",
       "    </tr>\n",
       "    <tr>\n",
       "      <th>25%</th>\n",
       "      <td>2.120091</td>\n",
       "    </tr>\n",
       "    <tr>\n",
       "      <th>50%</th>\n",
       "      <td>18.401687</td>\n",
       "    </tr>\n",
       "    <tr>\n",
       "      <th>75%</th>\n",
       "      <td>25.029620</td>\n",
       "    </tr>\n",
       "    <tr>\n",
       "      <th>max</th>\n",
       "      <td>140.870895</td>\n",
       "    </tr>\n",
       "  </tbody>\n",
       "</table>\n",
       "</div>"
      ],
      "text/plain": [
       "                 y\n",
       "count  8432.000000\n",
       "mean     22.155786\n",
       "std      25.366915\n",
       "min       0.058279\n",
       "25%       2.120091\n",
       "50%      18.401687\n",
       "75%      25.029620\n",
       "max     140.870895"
      ]
     },
     "execution_count": 21,
     "metadata": {},
     "output_type": "execute_result"
    }
   ],
   "source": [
    "df.describe()"
   ]
  },
  {
   "cell_type": "code",
   "execution_count": 22,
   "metadata": {},
   "outputs": [
    {
     "data": {
      "text/plain": [
       "(8432, 2)"
      ]
     },
     "execution_count": 22,
     "metadata": {},
     "output_type": "execute_result"
    }
   ],
   "source": [
    "df.shape"
   ]
  },
  {
   "cell_type": "code",
   "execution_count": 23,
   "metadata": {},
   "outputs": [
    {
     "data": {
      "text/plain": [
       "(8797, 19)"
      ]
     },
     "execution_count": 23,
     "metadata": {},
     "output_type": "execute_result"
    }
   ],
   "source": [
    "forecast.shape"
   ]
  },
  {
   "cell_type": "code",
   "execution_count": 24,
   "metadata": {
    "scrolled": true
   },
   "outputs": [
    {
     "data": {
      "text/html": [
       "<div>\n",
       "<style scoped>\n",
       "    .dataframe tbody tr th:only-of-type {\n",
       "        vertical-align: middle;\n",
       "    }\n",
       "\n",
       "    .dataframe tbody tr th {\n",
       "        vertical-align: top;\n",
       "    }\n",
       "\n",
       "    .dataframe thead th {\n",
       "        text-align: right;\n",
       "    }\n",
       "</style>\n",
       "<table border=\"1\" class=\"dataframe\">\n",
       "  <thead>\n",
       "    <tr style=\"text-align: right;\">\n",
       "      <th></th>\n",
       "      <th>trend</th>\n",
       "      <th>yhat_lower</th>\n",
       "      <th>yhat_upper</th>\n",
       "      <th>trend_lower</th>\n",
       "      <th>trend_upper</th>\n",
       "      <th>additive_terms</th>\n",
       "      <th>additive_terms_lower</th>\n",
       "      <th>additive_terms_upper</th>\n",
       "      <th>weekly</th>\n",
       "      <th>weekly_lower</th>\n",
       "      <th>weekly_upper</th>\n",
       "      <th>yearly</th>\n",
       "      <th>yearly_lower</th>\n",
       "      <th>yearly_upper</th>\n",
       "      <th>multiplicative_terms</th>\n",
       "      <th>multiplicative_terms_lower</th>\n",
       "      <th>multiplicative_terms_upper</th>\n",
       "      <th>yhat</th>\n",
       "    </tr>\n",
       "  </thead>\n",
       "  <tbody>\n",
       "    <tr>\n",
       "      <th>count</th>\n",
       "      <td>8797.000000</td>\n",
       "      <td>8797.000000</td>\n",
       "      <td>8797.000000</td>\n",
       "      <td>8797.000000</td>\n",
       "      <td>8797.000000</td>\n",
       "      <td>8797.000000</td>\n",
       "      <td>8797.000000</td>\n",
       "      <td>8797.000000</td>\n",
       "      <td>8797.000000</td>\n",
       "      <td>8797.000000</td>\n",
       "      <td>8797.000000</td>\n",
       "      <td>8797.000000</td>\n",
       "      <td>8797.000000</td>\n",
       "      <td>8797.000000</td>\n",
       "      <td>8797.0</td>\n",
       "      <td>8797.0</td>\n",
       "      <td>8797.0</td>\n",
       "      <td>8797.000000</td>\n",
       "    </tr>\n",
       "    <tr>\n",
       "      <th>mean</th>\n",
       "      <td>26.112059</td>\n",
       "      <td>19.679865</td>\n",
       "      <td>32.484522</td>\n",
       "      <td>26.093636</td>\n",
       "      <td>26.126844</td>\n",
       "      <td>-0.031348</td>\n",
       "      <td>-0.031348</td>\n",
       "      <td>-0.031348</td>\n",
       "      <td>-0.035015</td>\n",
       "      <td>-0.035015</td>\n",
       "      <td>-0.035015</td>\n",
       "      <td>0.003666</td>\n",
       "      <td>0.003666</td>\n",
       "      <td>0.003666</td>\n",
       "      <td>0.0</td>\n",
       "      <td>0.0</td>\n",
       "      <td>0.0</td>\n",
       "      <td>26.080711</td>\n",
       "    </tr>\n",
       "    <tr>\n",
       "      <th>std</th>\n",
       "      <td>30.769490</td>\n",
       "      <td>30.774105</td>\n",
       "      <td>30.794771</td>\n",
       "      <td>30.712946</td>\n",
       "      <td>30.815397</td>\n",
       "      <td>0.331134</td>\n",
       "      <td>0.331134</td>\n",
       "      <td>0.331134</td>\n",
       "      <td>0.021647</td>\n",
       "      <td>0.021647</td>\n",
       "      <td>0.021647</td>\n",
       "      <td>0.330375</td>\n",
       "      <td>0.330375</td>\n",
       "      <td>0.330375</td>\n",
       "      <td>0.0</td>\n",
       "      <td>0.0</td>\n",
       "      <td>0.0</td>\n",
       "      <td>30.781127</td>\n",
       "    </tr>\n",
       "    <tr>\n",
       "      <th>min</th>\n",
       "      <td>-0.117667</td>\n",
       "      <td>-7.819541</td>\n",
       "      <td>5.082499</td>\n",
       "      <td>-0.117667</td>\n",
       "      <td>-0.117667</td>\n",
       "      <td>-0.832710</td>\n",
       "      <td>-0.832710</td>\n",
       "      <td>-0.832710</td>\n",
       "      <td>-0.059047</td>\n",
       "      <td>-0.059047</td>\n",
       "      <td>-0.059047</td>\n",
       "      <td>-0.773663</td>\n",
       "      <td>-0.773663</td>\n",
       "      <td>-0.773663</td>\n",
       "      <td>0.0</td>\n",
       "      <td>0.0</td>\n",
       "      <td>0.0</td>\n",
       "      <td>-0.825325</td>\n",
       "    </tr>\n",
       "    <tr>\n",
       "      <th>25%</th>\n",
       "      <td>2.443099</td>\n",
       "      <td>-3.840970</td>\n",
       "      <td>8.998221</td>\n",
       "      <td>2.443099</td>\n",
       "      <td>2.443099</td>\n",
       "      <td>-0.249368</td>\n",
       "      <td>-0.249368</td>\n",
       "      <td>-0.249368</td>\n",
       "      <td>-0.050231</td>\n",
       "      <td>-0.050231</td>\n",
       "      <td>-0.050231</td>\n",
       "      <td>-0.216243</td>\n",
       "      <td>-0.216243</td>\n",
       "      <td>-0.216243</td>\n",
       "      <td>0.0</td>\n",
       "      <td>0.0</td>\n",
       "      <td>0.0</td>\n",
       "      <td>2.535165</td>\n",
       "    </tr>\n",
       "    <tr>\n",
       "      <th>50%</th>\n",
       "      <td>19.328279</td>\n",
       "      <td>12.745460</td>\n",
       "      <td>25.479109</td>\n",
       "      <td>19.328279</td>\n",
       "      <td>19.328279</td>\n",
       "      <td>-0.001519</td>\n",
       "      <td>-0.001519</td>\n",
       "      <td>-0.001519</td>\n",
       "      <td>-0.033392</td>\n",
       "      <td>-0.033392</td>\n",
       "      <td>-0.033392</td>\n",
       "      <td>0.035136</td>\n",
       "      <td>0.035136</td>\n",
       "      <td>0.035136</td>\n",
       "      <td>0.0</td>\n",
       "      <td>0.0</td>\n",
       "      <td>0.0</td>\n",
       "      <td>19.106110</td>\n",
       "    </tr>\n",
       "    <tr>\n",
       "      <th>75%</th>\n",
       "      <td>24.500104</td>\n",
       "      <td>17.940258</td>\n",
       "      <td>30.841151</td>\n",
       "      <td>24.500104</td>\n",
       "      <td>24.500104</td>\n",
       "      <td>0.165751</td>\n",
       "      <td>0.165751</td>\n",
       "      <td>0.165751</td>\n",
       "      <td>-0.026250</td>\n",
       "      <td>-0.026250</td>\n",
       "      <td>-0.026250</td>\n",
       "      <td>0.199774</td>\n",
       "      <td>0.199774</td>\n",
       "      <td>0.199774</td>\n",
       "      <td>0.0</td>\n",
       "      <td>0.0</td>\n",
       "      <td>0.0</td>\n",
       "      <td>24.389625</td>\n",
       "    </tr>\n",
       "    <tr>\n",
       "      <th>max</th>\n",
       "      <td>123.877324</td>\n",
       "      <td>117.570890</td>\n",
       "      <td>131.341821</td>\n",
       "      <td>122.469437</td>\n",
       "      <td>125.331811</td>\n",
       "      <td>0.811174</td>\n",
       "      <td>0.811174</td>\n",
       "      <td>0.811174</td>\n",
       "      <td>0.090631</td>\n",
       "      <td>0.090631</td>\n",
       "      <td>0.090631</td>\n",
       "      <td>0.720543</td>\n",
       "      <td>0.720543</td>\n",
       "      <td>0.720543</td>\n",
       "      <td>0.0</td>\n",
       "      <td>0.0</td>\n",
       "      <td>0.0</td>\n",
       "      <td>124.034134</td>\n",
       "    </tr>\n",
       "  </tbody>\n",
       "</table>\n",
       "</div>"
      ],
      "text/plain": [
       "             trend   yhat_lower   yhat_upper  trend_lower  trend_upper  \\\n",
       "count  8797.000000  8797.000000  8797.000000  8797.000000  8797.000000   \n",
       "mean     26.112059    19.679865    32.484522    26.093636    26.126844   \n",
       "std      30.769490    30.774105    30.794771    30.712946    30.815397   \n",
       "min      -0.117667    -7.819541     5.082499    -0.117667    -0.117667   \n",
       "25%       2.443099    -3.840970     8.998221     2.443099     2.443099   \n",
       "50%      19.328279    12.745460    25.479109    19.328279    19.328279   \n",
       "75%      24.500104    17.940258    30.841151    24.500104    24.500104   \n",
       "max     123.877324   117.570890   131.341821   122.469437   125.331811   \n",
       "\n",
       "       additive_terms  additive_terms_lower  additive_terms_upper  \\\n",
       "count     8797.000000           8797.000000           8797.000000   \n",
       "mean        -0.031348             -0.031348             -0.031348   \n",
       "std          0.331134              0.331134              0.331134   \n",
       "min         -0.832710             -0.832710             -0.832710   \n",
       "25%         -0.249368             -0.249368             -0.249368   \n",
       "50%         -0.001519             -0.001519             -0.001519   \n",
       "75%          0.165751              0.165751              0.165751   \n",
       "max          0.811174              0.811174              0.811174   \n",
       "\n",
       "            weekly  weekly_lower  weekly_upper       yearly  yearly_lower  \\\n",
       "count  8797.000000   8797.000000   8797.000000  8797.000000   8797.000000   \n",
       "mean     -0.035015     -0.035015     -0.035015     0.003666      0.003666   \n",
       "std       0.021647      0.021647      0.021647     0.330375      0.330375   \n",
       "min      -0.059047     -0.059047     -0.059047    -0.773663     -0.773663   \n",
       "25%      -0.050231     -0.050231     -0.050231    -0.216243     -0.216243   \n",
       "50%      -0.033392     -0.033392     -0.033392     0.035136      0.035136   \n",
       "75%      -0.026250     -0.026250     -0.026250     0.199774      0.199774   \n",
       "max       0.090631      0.090631      0.090631     0.720543      0.720543   \n",
       "\n",
       "       yearly_upper  multiplicative_terms  multiplicative_terms_lower  \\\n",
       "count   8797.000000                8797.0                      8797.0   \n",
       "mean       0.003666                   0.0                         0.0   \n",
       "std        0.330375                   0.0                         0.0   \n",
       "min       -0.773663                   0.0                         0.0   \n",
       "25%       -0.216243                   0.0                         0.0   \n",
       "50%        0.035136                   0.0                         0.0   \n",
       "75%        0.199774                   0.0                         0.0   \n",
       "max        0.720543                   0.0                         0.0   \n",
       "\n",
       "       multiplicative_terms_upper         yhat  \n",
       "count                      8797.0  8797.000000  \n",
       "mean                          0.0    26.080711  \n",
       "std                           0.0    30.781127  \n",
       "min                           0.0    -0.825325  \n",
       "25%                           0.0     2.535165  \n",
       "50%                           0.0    19.106110  \n",
       "75%                           0.0    24.389625  \n",
       "max                           0.0   124.034134  "
      ]
     },
     "execution_count": 24,
     "metadata": {},
     "output_type": "execute_result"
    }
   ],
   "source": [
    "forecast.describe()"
   ]
  }
 ],
 "metadata": {
  "kernelspec": {
   "display_name": "Python 3",
   "language": "python",
   "name": "python3"
  },
  "language_info": {
   "codemirror_mode": {
    "name": "ipython",
    "version": 3
   },
   "file_extension": ".py",
   "mimetype": "text/x-python",
   "name": "python",
   "nbconvert_exporter": "python",
   "pygments_lexer": "ipython3",
   "version": "3.7.3"
  }
 },
 "nbformat": 4,
 "nbformat_minor": 2
}
